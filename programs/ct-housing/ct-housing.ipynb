{
 "cells": [
  {
   "cell_type": "markdown",
   "metadata": {},
   "source": [
    "# Connecticut Housing Data Analysis and ML Preparation\n",
    "\n",
    "### Load the Data"
   ]
  },
  {
   "cell_type": "code",
   "execution_count": 1,
   "metadata": {},
   "outputs": [],
   "source": [
    "import time\n",
    "from datetime import datetime\n",
    "\n",
    "import numpy as np\n",
    "import pandas as pd\n",
    "import matplotlib.pyplot as plt"
   ]
  },
  {
   "cell_type": "code",
   "execution_count": 2,
   "metadata": {},
   "outputs": [
    {
     "data": {
      "text/html": [
       "<div>\n",
       "<style scoped>\n",
       "    .dataframe tbody tr th:only-of-type {\n",
       "        vertical-align: middle;\n",
       "    }\n",
       "\n",
       "    .dataframe tbody tr th {\n",
       "        vertical-align: top;\n",
       "    }\n",
       "\n",
       "    .dataframe thead th {\n",
       "        text-align: right;\n",
       "    }\n",
       "</style>\n",
       "<table border=\"1\" class=\"dataframe\">\n",
       "  <thead>\n",
       "    <tr style=\"text-align: right;\">\n",
       "      <th></th>\n",
       "      <th>SerialNumber</th>\n",
       "      <th>ListYear</th>\n",
       "      <th>DateRecorded</th>\n",
       "      <th>Town</th>\n",
       "      <th>Address</th>\n",
       "      <th>AssessedValue</th>\n",
       "      <th>SaleAmount</th>\n",
       "      <th>SalesRatio</th>\n",
       "      <th>PropertyType</th>\n",
       "      <th>ResidentialType</th>\n",
       "      <th>NonUseCode</th>\n",
       "      <th>Remarks</th>\n",
       "      <th>NumberOfBuildings</th>\n",
       "    </tr>\n",
       "  </thead>\n",
       "  <tbody>\n",
       "    <tr>\n",
       "      <th>0</th>\n",
       "      <td>17001</td>\n",
       "      <td>2017</td>\n",
       "      <td>10/02/2017</td>\n",
       "      <td>Andover</td>\n",
       "      <td>27 HENDEE RD</td>\n",
       "      <td>58400.0</td>\n",
       "      <td>82000.0</td>\n",
       "      <td>0.712</td>\n",
       "      <td>NaN</td>\n",
       "      <td>Single Family</td>\n",
       "      <td>NaN</td>\n",
       "      <td>NaN</td>\n",
       "      <td>NaN</td>\n",
       "    </tr>\n",
       "    <tr>\n",
       "      <th>1</th>\n",
       "      <td>40043</td>\n",
       "      <td>2004</td>\n",
       "      <td>05/19/2005</td>\n",
       "      <td>Andover</td>\n",
       "      <td>BURNAP BRK RD</td>\n",
       "      <td>850.0</td>\n",
       "      <td>50000.0</td>\n",
       "      <td>1.700</td>\n",
       "      <td>Vacant Land</td>\n",
       "      <td>NaN</td>\n",
       "      <td>28</td>\n",
       "      <td>NaN</td>\n",
       "      <td>NaN</td>\n",
       "    </tr>\n",
       "    <tr>\n",
       "      <th>2</th>\n",
       "      <td>30070</td>\n",
       "      <td>2003</td>\n",
       "      <td>08/02/2004</td>\n",
       "      <td>Andover</td>\n",
       "      <td>ROUTE 6</td>\n",
       "      <td>157300.0</td>\n",
       "      <td>175000.0</td>\n",
       "      <td>89.880</td>\n",
       "      <td>Vacant Land</td>\n",
       "      <td>NaN</td>\n",
       "      <td>0</td>\n",
       "      <td>NaN</td>\n",
       "      <td>NaN</td>\n",
       "    </tr>\n",
       "    <tr>\n",
       "      <th>3</th>\n",
       "      <td>40036</td>\n",
       "      <td>2004</td>\n",
       "      <td>04/29/2005</td>\n",
       "      <td>Andover</td>\n",
       "      <td>ROUTE 6</td>\n",
       "      <td>22400.0</td>\n",
       "      <td>20000.0</td>\n",
       "      <td>112.000</td>\n",
       "      <td>Vacant Land</td>\n",
       "      <td>NaN</td>\n",
       "      <td>25</td>\n",
       "      <td>NaN</td>\n",
       "      <td>NaN</td>\n",
       "    </tr>\n",
       "    <tr>\n",
       "      <th>4</th>\n",
       "      <td>170003</td>\n",
       "      <td>2017</td>\n",
       "      <td>10/02/2017</td>\n",
       "      <td>Branford</td>\n",
       "      <td>22-24 SILVER ST</td>\n",
       "      <td>205500.0</td>\n",
       "      <td>357500.0</td>\n",
       "      <td>0.575</td>\n",
       "      <td>NaN</td>\n",
       "      <td>Two Family</td>\n",
       "      <td>NaN</td>\n",
       "      <td>NaN</td>\n",
       "      <td>NaN</td>\n",
       "    </tr>\n",
       "    <tr>\n",
       "      <th>5</th>\n",
       "      <td>50249</td>\n",
       "      <td>2005</td>\n",
       "      <td>07/05/2006</td>\n",
       "      <td>Ansonia</td>\n",
       "      <td>13 MCINTOSH LN</td>\n",
       "      <td>0.0</td>\n",
       "      <td>197400.0</td>\n",
       "      <td>0.000</td>\n",
       "      <td>Condo</td>\n",
       "      <td>NaN</td>\n",
       "      <td>7</td>\n",
       "      <td>NaN</td>\n",
       "      <td>NaN</td>\n",
       "    </tr>\n",
       "    <tr>\n",
       "      <th>6</th>\n",
       "      <td>50125</td>\n",
       "      <td>2005</td>\n",
       "      <td>02/16/2006</td>\n",
       "      <td>Ansonia</td>\n",
       "      <td>22 WESTFIELD AVE 5 &amp;</td>\n",
       "      <td>331100.0</td>\n",
       "      <td>375000.0</td>\n",
       "      <td>88.300</td>\n",
       "      <td>Condo</td>\n",
       "      <td>NaN</td>\n",
       "      <td>0</td>\n",
       "      <td>NaN</td>\n",
       "      <td>NaN</td>\n",
       "    </tr>\n",
       "    <tr>\n",
       "      <th>7</th>\n",
       "      <td>170007</td>\n",
       "      <td>2017</td>\n",
       "      <td>10/02/2017</td>\n",
       "      <td>Groton</td>\n",
       "      <td>174 ANN AVE</td>\n",
       "      <td>158410.0</td>\n",
       "      <td>192000.0</td>\n",
       "      <td>0.825</td>\n",
       "      <td>NaN</td>\n",
       "      <td>Single Family</td>\n",
       "      <td>NaN</td>\n",
       "      <td>NaN</td>\n",
       "      <td>NaN</td>\n",
       "    </tr>\n",
       "    <tr>\n",
       "      <th>8</th>\n",
       "      <td>50059</td>\n",
       "      <td>2005</td>\n",
       "      <td>05/17/2006</td>\n",
       "      <td>Ashford</td>\n",
       "      <td>52 PERRY HL RD</td>\n",
       "      <td>1196070.0</td>\n",
       "      <td>3700000.0</td>\n",
       "      <td>32.300</td>\n",
       "      <td>Apartments</td>\n",
       "      <td>NaN</td>\n",
       "      <td>0</td>\n",
       "      <td>NaN</td>\n",
       "      <td>NaN</td>\n",
       "    </tr>\n",
       "    <tr>\n",
       "      <th>9</th>\n",
       "      <td>140042</td>\n",
       "      <td>2014</td>\n",
       "      <td>07/22/2015</td>\n",
       "      <td>Ashford</td>\n",
       "      <td>ASHFORD LAKE DR</td>\n",
       "      <td>3900.0</td>\n",
       "      <td>2500.0</td>\n",
       "      <td>1.560</td>\n",
       "      <td>Vacant Land</td>\n",
       "      <td>NaN</td>\n",
       "      <td>NaN</td>\n",
       "      <td>NaN</td>\n",
       "      <td>NaN</td>\n",
       "    </tr>\n",
       "  </tbody>\n",
       "</table>\n",
       "</div>"
      ],
      "text/plain": [
       "   SerialNumber  ListYear DateRecorded      Town               Address  \\\n",
       "0         17001      2017   10/02/2017   Andover          27 HENDEE RD   \n",
       "1         40043      2004   05/19/2005   Andover         BURNAP BRK RD   \n",
       "2         30070      2003   08/02/2004   Andover               ROUTE 6   \n",
       "3         40036      2004   04/29/2005   Andover               ROUTE 6   \n",
       "4        170003      2017   10/02/2017  Branford       22-24 SILVER ST   \n",
       "5         50249      2005   07/05/2006   Ansonia        13 MCINTOSH LN   \n",
       "6         50125      2005   02/16/2006   Ansonia  22 WESTFIELD AVE 5 &   \n",
       "7        170007      2017   10/02/2017    Groton           174 ANN AVE   \n",
       "8         50059      2005   05/17/2006   Ashford        52 PERRY HL RD   \n",
       "9        140042      2014   07/22/2015   Ashford       ASHFORD LAKE DR   \n",
       "\n",
       "   AssessedValue  SaleAmount  SalesRatio PropertyType ResidentialType  \\\n",
       "0        58400.0     82000.0       0.712          NaN   Single Family   \n",
       "1          850.0     50000.0       1.700  Vacant Land             NaN   \n",
       "2       157300.0    175000.0      89.880  Vacant Land             NaN   \n",
       "3        22400.0     20000.0     112.000  Vacant Land             NaN   \n",
       "4       205500.0    357500.0       0.575          NaN      Two Family   \n",
       "5            0.0    197400.0       0.000        Condo             NaN   \n",
       "6       331100.0    375000.0      88.300        Condo             NaN   \n",
       "7       158410.0    192000.0       0.825          NaN   Single Family   \n",
       "8      1196070.0   3700000.0      32.300   Apartments             NaN   \n",
       "9         3900.0      2500.0       1.560  Vacant Land             NaN   \n",
       "\n",
       "  NonUseCode Remarks  NumberOfBuildings  \n",
       "0        NaN     NaN                NaN  \n",
       "1         28     NaN                NaN  \n",
       "2          0     NaN                NaN  \n",
       "3         25     NaN                NaN  \n",
       "4        NaN     NaN                NaN  \n",
       "5          7     NaN                NaN  \n",
       "6          0     NaN                NaN  \n",
       "7        NaN     NaN                NaN  \n",
       "8          0     NaN                NaN  \n",
       "9        NaN     NaN                NaN  "
      ]
     },
     "execution_count": 2,
     "metadata": {},
     "output_type": "execute_result"
    }
   ],
   "source": [
    "ct_housing = pd.read_csv('data/CT_Housing.csv')\n",
    "ct_housing.head(10)"
   ]
  },
  {
   "cell_type": "markdown",
   "metadata": {},
   "source": [
    "View all the columns in the CT housing data.  Begin to see which columns hold numerical data and categorical\n",
    "data.  Also check to see which cells contain nulls.  These must be filled while cleaning the data."
   ]
  },
  {
   "cell_type": "code",
   "execution_count": 3,
   "metadata": {},
   "outputs": [
    {
     "name": "stdout",
     "output_type": "stream",
     "text": [
      "<class 'pandas.core.frame.DataFrame'>\n",
      "RangeIndex: 912302 entries, 0 to 912301\n",
      "Data columns (total 13 columns):\n",
      " #   Column             Non-Null Count   Dtype  \n",
      "---  ------             --------------   -----  \n",
      " 0   SerialNumber       912302 non-null  int64  \n",
      " 1   ListYear           912302 non-null  int64  \n",
      " 2   DateRecorded       912294 non-null  object \n",
      " 3   Town               912302 non-null  object \n",
      " 4   Address            912251 non-null  object \n",
      " 5   AssessedValue      911998 non-null  float64\n",
      " 6   SaleAmount         881510 non-null  float64\n",
      " 7   SalesRatio         911469 non-null  float64\n",
      " 8   PropertyType       812319 non-null  object \n",
      " 9   ResidentialType    699105 non-null  object \n",
      " 10  NonUseCode         538939 non-null  object \n",
      " 11  Remarks            132036 non-null  object \n",
      " 12  NumberOfBuildings  50705 non-null   float64\n",
      "dtypes: float64(4), int64(2), object(7)\n",
      "memory usage: 90.5+ MB\n"
     ]
    }
   ],
   "source": [
    "ct_housing.info()"
   ]
  },
  {
   "cell_type": "markdown",
   "metadata": {},
   "source": [
    "### Chart the Data"
   ]
  },
  {
   "cell_type": "code",
   "execution_count": 4,
   "metadata": {},
   "outputs": [
    {
     "data": {
      "text/plain": [
       "<AxesSubplot:>"
      ]
     },
     "execution_count": 4,
     "metadata": {},
     "output_type": "execute_result"
    },
    {
     "data": {
      "image/png": "[encoded data removed]",
      "text/plain": [
       "<Figure size 864x576 with 1 Axes>"
      ]
     },
     "metadata": {
      "needs_background": "light"
     },
     "output_type": "display_data"
    }
   ],
   "source": [
    "ct_housing['SalesRatio'].hist(bins=60, figsize=(12, 8), range=(0, 3))"
   ]
  },
  {
   "cell_type": "code",
   "execution_count": 5,
   "metadata": {},
   "outputs": [
    {
     "data": {
      "image/png": "[encoded data removed]",
      "text/plain": [
       "<Figure size 432x288 with 1 Axes>"
      ]
     },
     "metadata": {
      "needs_background": "light"
     },
     "output_type": "display_data"
    }
   ],
   "source": [
    "plt.hist(ct_housing['SaleAmount'][ct_housing['SaleAmount'] < 3_000_000], bins=90)\n",
    "plt.xlim(0, 3_000_000)\n",
    "plt.show()"
   ]
  },
  {
   "cell_type": "markdown",
   "metadata": {},
   "source": [
    "### Analyze the categorical columns"
   ]
  },
  {
   "cell_type": "code",
   "execution_count": 6,
   "metadata": {},
   "outputs": [
    {
     "data": {
      "text/plain": [
       "array([nan, 'Vacant Land', 'Condo', 'Apartments', 'Commercial',\n",
       "       'Residential', 'Industrial', '10 Mill Forest', 'Public Utility'],\n",
       "      dtype=object)"
      ]
     },
     "execution_count": 6,
     "metadata": {},
     "output_type": "execute_result"
    }
   ],
   "source": [
    "ct_housing['PropertyType'].unique()"
   ]
  },
  {
   "cell_type": "code",
   "execution_count": 7,
   "metadata": {},
   "outputs": [
    {
     "data": {
      "text/plain": [
       "Residential       602891\n",
       "Condo             120528\n",
       "Vacant Land        46356\n",
       "Commercial         32262\n",
       "Apartments          5949\n",
       "Industrial          4181\n",
       "Public Utility       141\n",
       "10 Mill Forest        11\n",
       "Name: PropertyType, dtype: int64"
      ]
     },
     "execution_count": 7,
     "metadata": {},
     "output_type": "execute_result"
    }
   ],
   "source": [
    "ct_housing['PropertyType'].astype('category').value_counts()"
   ]
  },
  {
   "cell_type": "code",
   "execution_count": 8,
   "metadata": {},
   "outputs": [
    {
     "data": {
      "text/plain": [
       "array(['Single Family', nan, 'Two Family', 'Condo Family', 'Vacant Land',\n",
       "       'Commercial', 'Industrial', 'Four Family', 'Three Family',\n",
       "       'Apartments', 'Residential', 'Multi Family', 'Public Utility'],\n",
       "      dtype=object)"
      ]
     },
     "execution_count": 8,
     "metadata": {},
     "output_type": "execute_result"
    }
   ],
   "source": [
    "ct_housing['ResidentialType'].unique()"
   ]
  },
  {
   "cell_type": "code",
   "execution_count": 9,
   "metadata": {},
   "outputs": [
    {
     "data": {
      "text/plain": [
       "Single Family     614927\n",
       "Two Family         39037\n",
       "Three Family       19453\n",
       "Condo Family       16180\n",
       "Vacant Land         3555\n",
       "Commercial          3297\n",
       "Four Family         1332\n",
       "Apartments           543\n",
       "Industrial           404\n",
       "Residential          292\n",
       "Multi Family          76\n",
       "Public Utility         9\n",
       "Name: ResidentialType, dtype: int64"
      ]
     },
     "execution_count": 9,
     "metadata": {},
     "output_type": "execute_result"
    }
   ],
   "source": [
    "ct_housing['ResidentialType'].astype('category').value_counts()"
   ]
  },
  {
   "cell_type": "code",
   "execution_count": 10,
   "metadata": {},
   "outputs": [
    {
     "data": {
      "text/plain": [
       "array([nan,  1.,  0.,  2., 18.,  3., 36., 11.,  8., 25.,  4.,  6., 52.,\n",
       "       12., 69., 30., 28.,  5.,  7., 14., 19., 10., 17.])"
      ]
     },
     "execution_count": 10,
     "metadata": {},
     "output_type": "execute_result"
    }
   ],
   "source": [
    "ct_housing['NumberOfBuildings'].unique()"
   ]
  },
  {
   "cell_type": "code",
   "execution_count": 11,
   "metadata": {},
   "outputs": [
    {
     "data": {
      "text/plain": [
       "1.0     37653\n",
       "0.0     12620\n",
       "2.0       311\n",
       "3.0        56\n",
       "4.0        17\n",
       "11.0       11\n",
       "5.0         8\n",
       "6.0         7\n",
       "14.0        3\n",
       "8.0         3\n",
       "25.0        3\n",
       "7.0         2\n",
       "36.0        2\n",
       "19.0        1\n",
       "18.0        1\n",
       "17.0        1\n",
       "12.0        1\n",
       "52.0        1\n",
       "10.0        1\n",
       "28.0        1\n",
       "30.0        1\n",
       "69.0        1\n",
       "Name: NumberOfBuildings, dtype: int64"
      ]
     },
     "execution_count": 11,
     "metadata": {},
     "output_type": "execute_result"
    }
   ],
   "source": [
    "ct_housing['NumberOfBuildings'].astype('category').value_counts()"
   ]
  },
  {
   "cell_type": "code",
   "execution_count": 12,
   "metadata": {},
   "outputs": [
    {
     "data": {
      "text/plain": [
       "addl remarks                   41666\n",
       "0                              30671\n",
       "ESTATE SALE                     2154\n",
       "FALSE                           1682\n",
       "SHORT SALE                      1198\n",
       "SALE OF FORECLOSED PROPERTY      814\n",
       "SALES RATIO                      757\n",
       "NEW CONSTRUCTION                 756\n",
       "qualified sale                   717\n",
       "BELOW MARKET                     662\n",
       "Name: Remarks, dtype: int64"
      ]
     },
     "execution_count": 12,
     "metadata": {},
     "output_type": "execute_result"
    }
   ],
   "source": [
    "ct_housing['Remarks'].astype('category').value_counts().head(10)"
   ]
  },
  {
   "cell_type": "code",
   "execution_count": 13,
   "metadata": {},
   "outputs": [
    {
     "data": {
      "text/plain": [
       "Bridgeport       34486\n",
       "Stamford         29462\n",
       "Waterbury        24275\n",
       "Norwalk          21474\n",
       "New Haven        20463\n",
       "West Hartford    18322\n",
       "Hartford         17705\n",
       "Danbury          17460\n",
       "Milford          16407\n",
       "Meriden          16273\n",
       "Hamden           16246\n",
       "Stratford        16187\n",
       "Greenwich        15712\n",
       "Fairfield        15702\n",
       "Manchester       15207\n",
       "Bristol          14362\n",
       "New Britain      14042\n",
       "Torrington       12906\n",
       "East Hartford    12773\n",
       "West Haven       12308\n",
       "Name: Town, dtype: int64"
      ]
     },
     "execution_count": 13,
     "metadata": {},
     "output_type": "execute_result"
    }
   ],
   "source": [
    "ct_housing['Town'].astype('category').value_counts().head(20)"
   ]
  },
  {
   "cell_type": "code",
   "execution_count": 14,
   "metadata": {},
   "outputs": [
    {
     "data": {
      "text/plain": [
       "0                   290381\n",
       "7                    33301\n",
       "25                   32516\n",
       "14                   29818\n",
       "14 - Foreclosure     18129\n",
       "                     ...  \n",
       "68                       1\n",
       "20 - Cemetery            1\n",
       "88                       1\n",
       "74                       1\n",
       "75                       1\n",
       "Name: NonUseCode, Length: 84, dtype: int64"
      ]
     },
     "execution_count": 14,
     "metadata": {},
     "output_type": "execute_result"
    }
   ],
   "source": [
    "ct_housing['NonUseCode'].astype('category').value_counts()"
   ]
  },
  {
   "cell_type": "markdown",
   "metadata": {},
   "source": [
    "### Split the Data into Test and Training Sets"
   ]
  },
  {
   "cell_type": "code",
   "execution_count": 15,
   "metadata": {},
   "outputs": [],
   "source": [
    "from sklearn.model_selection import train_test_split\n",
    "\n",
    "train_set, test_set = train_test_split(ct_housing, test_size=0.2, random_state=42)"
   ]
  },
  {
   "cell_type": "markdown",
   "metadata": {},
   "source": [
    "### Clean the Data\n",
    "\n",
    "First remove rows with null values in required columns."
   ]
  },
  {
   "cell_type": "code",
   "execution_count": 16,
   "metadata": {},
   "outputs": [
    {
     "data": {
      "text/html": [
       "<div>\n",
       "<style scoped>\n",
       "    .dataframe tbody tr th:only-of-type {\n",
       "        vertical-align: middle;\n",
       "    }\n",
       "\n",
       "    .dataframe tbody tr th {\n",
       "        vertical-align: top;\n",
       "    }\n",
       "\n",
       "    .dataframe thead th {\n",
       "        text-align: right;\n",
       "    }\n",
       "</style>\n",
       "<table border=\"1\" class=\"dataframe\">\n",
       "  <thead>\n",
       "    <tr style=\"text-align: right;\">\n",
       "      <th></th>\n",
       "      <th>ListYear</th>\n",
       "      <th>DateRecorded</th>\n",
       "      <th>Town</th>\n",
       "      <th>AssessedValue</th>\n",
       "      <th>SaleAmount</th>\n",
       "      <th>SalesRatio</th>\n",
       "      <th>PropertyType</th>\n",
       "      <th>ResidentialType</th>\n",
       "      <th>NumberOfBuildings</th>\n",
       "    </tr>\n",
       "  </thead>\n",
       "  <tbody>\n",
       "    <tr>\n",
       "      <th>748291</th>\n",
       "      <td>2015</td>\n",
       "      <td>1474516800</td>\n",
       "      <td>Naugatuck</td>\n",
       "      <td>121440.0</td>\n",
       "      <td>159900.0</td>\n",
       "      <td>0.759475</td>\n",
       "      <td>Residential</td>\n",
       "      <td>Single Family</td>\n",
       "      <td>NaN</td>\n",
       "    </tr>\n",
       "    <tr>\n",
       "      <th>831909</th>\n",
       "      <td>2012</td>\n",
       "      <td>1350014400</td>\n",
       "      <td>Guilford</td>\n",
       "      <td>46490.0</td>\n",
       "      <td>56000.0</td>\n",
       "      <td>0.830179</td>\n",
       "      <td>Commercial</td>\n",
       "      <td>NaN</td>\n",
       "      <td>NaN</td>\n",
       "    </tr>\n",
       "    <tr>\n",
       "      <th>185198</th>\n",
       "      <td>2016</td>\n",
       "      <td>1478059200</td>\n",
       "      <td>Newtown</td>\n",
       "      <td>96880.0</td>\n",
       "      <td>80000.0</td>\n",
       "      <td>1.211000</td>\n",
       "      <td>Residential</td>\n",
       "      <td>Single Family</td>\n",
       "      <td>NaN</td>\n",
       "    </tr>\n",
       "    <tr>\n",
       "      <th>183055</th>\n",
       "      <td>2003</td>\n",
       "      <td>1087358400</td>\n",
       "      <td>New Milford</td>\n",
       "      <td>106960.0</td>\n",
       "      <td>220000.0</td>\n",
       "      <td>48.610000</td>\n",
       "      <td>Commercial</td>\n",
       "      <td>NaN</td>\n",
       "      <td>NaN</td>\n",
       "    </tr>\n",
       "    <tr>\n",
       "      <th>407872</th>\n",
       "      <td>2016</td>\n",
       "      <td>1494216000</td>\n",
       "      <td>Norwalk</td>\n",
       "      <td>881040.0</td>\n",
       "      <td>962500.0</td>\n",
       "      <td>0.915366</td>\n",
       "      <td>Residential</td>\n",
       "      <td>Single Family</td>\n",
       "      <td>NaN</td>\n",
       "    </tr>\n",
       "    <tr>\n",
       "      <th>...</th>\n",
       "      <td>...</td>\n",
       "      <td>...</td>\n",
       "      <td>...</td>\n",
       "      <td>...</td>\n",
       "      <td>...</td>\n",
       "      <td>...</td>\n",
       "      <td>...</td>\n",
       "      <td>...</td>\n",
       "      <td>...</td>\n",
       "    </tr>\n",
       "    <tr>\n",
       "      <th>259178</th>\n",
       "      <td>2005</td>\n",
       "      <td>1148356800</td>\n",
       "      <td>West Hartford</td>\n",
       "      <td>88980.0</td>\n",
       "      <td>297000.0</td>\n",
       "      <td>30.000000</td>\n",
       "      <td>Residential</td>\n",
       "      <td>Two Family</td>\n",
       "      <td>NaN</td>\n",
       "    </tr>\n",
       "    <tr>\n",
       "      <th>365838</th>\n",
       "      <td>2009</td>\n",
       "      <td>1267419600</td>\n",
       "      <td>East Hartford</td>\n",
       "      <td>119420.0</td>\n",
       "      <td>131500.0</td>\n",
       "      <td>0.908137</td>\n",
       "      <td>Residential</td>\n",
       "      <td>Single Family</td>\n",
       "      <td>NaN</td>\n",
       "    </tr>\n",
       "    <tr>\n",
       "      <th>131932</th>\n",
       "      <td>2006</td>\n",
       "      <td>1187841600</td>\n",
       "      <td>Hamden</td>\n",
       "      <td>5670.0</td>\n",
       "      <td>60000.0</td>\n",
       "      <td>0.094500</td>\n",
       "      <td>Vacant Land</td>\n",
       "      <td>NaN</td>\n",
       "      <td>NaN</td>\n",
       "    </tr>\n",
       "    <tr>\n",
       "      <th>671155</th>\n",
       "      <td>2012</td>\n",
       "      <td>1360213200</td>\n",
       "      <td>Newington</td>\n",
       "      <td>83800.0</td>\n",
       "      <td>115000.0</td>\n",
       "      <td>0.728696</td>\n",
       "      <td>Commercial</td>\n",
       "      <td>NaN</td>\n",
       "      <td>NaN</td>\n",
       "    </tr>\n",
       "    <tr>\n",
       "      <th>121958</th>\n",
       "      <td>2013</td>\n",
       "      <td>1381809600</td>\n",
       "      <td>Greenwich</td>\n",
       "      <td>2784740.0</td>\n",
       "      <td>6200000.0</td>\n",
       "      <td>0.449000</td>\n",
       "      <td>Residential</td>\n",
       "      <td>Single Family</td>\n",
       "      <td>NaN</td>\n",
       "    </tr>\n",
       "  </tbody>\n",
       "</table>\n",
       "<p>704417 rows × 9 columns</p>\n",
       "</div>"
      ],
      "text/plain": [
       "        ListYear  DateRecorded           Town  AssessedValue  SaleAmount  \\\n",
       "748291      2015    1474516800      Naugatuck       121440.0    159900.0   \n",
       "831909      2012    1350014400       Guilford        46490.0     56000.0   \n",
       "185198      2016    1478059200        Newtown        96880.0     80000.0   \n",
       "183055      2003    1087358400    New Milford       106960.0    220000.0   \n",
       "407872      2016    1494216000        Norwalk       881040.0    962500.0   \n",
       "...          ...           ...            ...            ...         ...   \n",
       "259178      2005    1148356800  West Hartford        88980.0    297000.0   \n",
       "365838      2009    1267419600  East Hartford       119420.0    131500.0   \n",
       "131932      2006    1187841600         Hamden         5670.0     60000.0   \n",
       "671155      2012    1360213200      Newington        83800.0    115000.0   \n",
       "121958      2013    1381809600      Greenwich      2784740.0   6200000.0   \n",
       "\n",
       "        SalesRatio PropertyType ResidentialType  NumberOfBuildings  \n",
       "748291    0.759475  Residential   Single Family                NaN  \n",
       "831909    0.830179   Commercial             NaN                NaN  \n",
       "185198    1.211000  Residential   Single Family                NaN  \n",
       "183055   48.610000   Commercial             NaN                NaN  \n",
       "407872    0.915366  Residential   Single Family                NaN  \n",
       "...            ...          ...             ...                ...  \n",
       "259178   30.000000  Residential      Two Family                NaN  \n",
       "365838    0.908137  Residential   Single Family                NaN  \n",
       "131932    0.094500  Vacant Land             NaN                NaN  \n",
       "671155    0.728696   Commercial             NaN                NaN  \n",
       "121958    0.449000  Residential   Single Family                NaN  \n",
       "\n",
       "[704417 rows x 9 columns]"
      ]
     },
     "execution_count": 16,
     "metadata": {},
     "output_type": "execute_result"
    }
   ],
   "source": [
    "ct_housing_full_data = train_set.drop(['Remarks', 'Address', 'SerialNumber', 'NonUseCode'], axis=1)\n",
    "ct_housing_full_data = ct_housing_full_data[~ct_housing_full_data['DateRecorded'].isnull()]\n",
    "ct_housing_full_data = ct_housing_full_data[~ct_housing_full_data['AssessedValue'].isnull()]\n",
    "ct_housing_full_data = ct_housing_full_data[~ct_housing_full_data['SaleAmount'].isnull()]\n",
    "ct_housing_full_data = ct_housing_full_data[~ct_housing_full_data['SalesRatio'].isnull()]\n",
    "\n",
    "def convert_to_unix(x: str) -> int:\n",
    "    ts = datetime.strptime(x, \"%m/%d/%Y\")\n",
    "    return int(time.mktime(ts.timetuple()))\n",
    "\n",
    "ct_housing_full_data['DateRecorded'] = ct_housing_full_data['DateRecorded'].apply(convert_to_unix)\n",
    "ct_housing_full_data"
   ]
  },
  {
   "cell_type": "code",
   "execution_count": 17,
   "metadata": {},
   "outputs": [
    {
     "name": "stdout",
     "output_type": "stream",
     "text": [
      "<class 'pandas.core.frame.DataFrame'>\n",
      "Int64Index: 704417 entries, 748291 to 121958\n",
      "Data columns (total 9 columns):\n",
      " #   Column             Non-Null Count   Dtype  \n",
      "---  ------             --------------   -----  \n",
      " 0   ListYear           704417 non-null  int64  \n",
      " 1   DateRecorded       704417 non-null  int64  \n",
      " 2   Town               704417 non-null  object \n",
      " 3   AssessedValue      704417 non-null  float64\n",
      " 4   SaleAmount         704417 non-null  float64\n",
      " 5   SalesRatio         704417 non-null  float64\n",
      " 6   PropertyType       624715 non-null  object \n",
      " 7   ResidentialType    541463 non-null  object \n",
      " 8   NumberOfBuildings  40456 non-null   float64\n",
      "dtypes: float64(4), int64(2), object(3)\n",
      "memory usage: 53.7+ MB\n"
     ]
    }
   ],
   "source": [
    "ct_housing_full_data.info()"
   ]
  },
  {
   "cell_type": "code",
   "execution_count": 18,
   "metadata": {},
   "outputs": [
    {
     "data": {
      "text/plain": [
       "748291     159900.0\n",
       "831909      56000.0\n",
       "185198      80000.0\n",
       "183055     220000.0\n",
       "407872     962500.0\n",
       "            ...    \n",
       "259178     297000.0\n",
       "365838     131500.0\n",
       "131932      60000.0\n",
       "671155     115000.0\n",
       "121958    6200000.0\n",
       "Name: SaleAmount, Length: 704417, dtype: float64"
      ]
     },
     "execution_count": 18,
     "metadata": {},
     "output_type": "execute_result"
    }
   ],
   "source": [
    "housing_data_labels = ct_housing_full_data['SaleAmount'].copy()\n",
    "housing_data_labels"
   ]
  },
  {
   "cell_type": "code",
   "execution_count": 19,
   "metadata": {},
   "outputs": [
    {
     "data": {
      "text/html": [
       "<div>\n",
       "<style scoped>\n",
       "    .dataframe tbody tr th:only-of-type {\n",
       "        vertical-align: middle;\n",
       "    }\n",
       "\n",
       "    .dataframe tbody tr th {\n",
       "        vertical-align: top;\n",
       "    }\n",
       "\n",
       "    .dataframe thead th {\n",
       "        text-align: right;\n",
       "    }\n",
       "</style>\n",
       "<table border=\"1\" class=\"dataframe\">\n",
       "  <thead>\n",
       "    <tr style=\"text-align: right;\">\n",
       "      <th></th>\n",
       "      <th>ListYear</th>\n",
       "      <th>DateRecorded</th>\n",
       "      <th>Town</th>\n",
       "      <th>AssessedValue</th>\n",
       "      <th>SalesRatio</th>\n",
       "      <th>PropertyType</th>\n",
       "      <th>ResidentialType</th>\n",
       "      <th>NumberOfBuildings</th>\n",
       "    </tr>\n",
       "  </thead>\n",
       "  <tbody>\n",
       "    <tr>\n",
       "      <th>748291</th>\n",
       "      <td>2015</td>\n",
       "      <td>1474516800</td>\n",
       "      <td>Naugatuck</td>\n",
       "      <td>121440.0</td>\n",
       "      <td>0.759475</td>\n",
       "      <td>Residential</td>\n",
       "      <td>Single Family</td>\n",
       "      <td>NaN</td>\n",
       "    </tr>\n",
       "    <tr>\n",
       "      <th>831909</th>\n",
       "      <td>2012</td>\n",
       "      <td>1350014400</td>\n",
       "      <td>Guilford</td>\n",
       "      <td>46490.0</td>\n",
       "      <td>0.830179</td>\n",
       "      <td>Commercial</td>\n",
       "      <td>NaN</td>\n",
       "      <td>NaN</td>\n",
       "    </tr>\n",
       "    <tr>\n",
       "      <th>185198</th>\n",
       "      <td>2016</td>\n",
       "      <td>1478059200</td>\n",
       "      <td>Newtown</td>\n",
       "      <td>96880.0</td>\n",
       "      <td>1.211000</td>\n",
       "      <td>Residential</td>\n",
       "      <td>Single Family</td>\n",
       "      <td>NaN</td>\n",
       "    </tr>\n",
       "    <tr>\n",
       "      <th>183055</th>\n",
       "      <td>2003</td>\n",
       "      <td>1087358400</td>\n",
       "      <td>New Milford</td>\n",
       "      <td>106960.0</td>\n",
       "      <td>48.610000</td>\n",
       "      <td>Commercial</td>\n",
       "      <td>NaN</td>\n",
       "      <td>NaN</td>\n",
       "    </tr>\n",
       "    <tr>\n",
       "      <th>407872</th>\n",
       "      <td>2016</td>\n",
       "      <td>1494216000</td>\n",
       "      <td>Norwalk</td>\n",
       "      <td>881040.0</td>\n",
       "      <td>0.915366</td>\n",
       "      <td>Residential</td>\n",
       "      <td>Single Family</td>\n",
       "      <td>NaN</td>\n",
       "    </tr>\n",
       "    <tr>\n",
       "      <th>...</th>\n",
       "      <td>...</td>\n",
       "      <td>...</td>\n",
       "      <td>...</td>\n",
       "      <td>...</td>\n",
       "      <td>...</td>\n",
       "      <td>...</td>\n",
       "      <td>...</td>\n",
       "      <td>...</td>\n",
       "    </tr>\n",
       "    <tr>\n",
       "      <th>259178</th>\n",
       "      <td>2005</td>\n",
       "      <td>1148356800</td>\n",
       "      <td>West Hartford</td>\n",
       "      <td>88980.0</td>\n",
       "      <td>30.000000</td>\n",
       "      <td>Residential</td>\n",
       "      <td>Two Family</td>\n",
       "      <td>NaN</td>\n",
       "    </tr>\n",
       "    <tr>\n",
       "      <th>365838</th>\n",
       "      <td>2009</td>\n",
       "      <td>1267419600</td>\n",
       "      <td>East Hartford</td>\n",
       "      <td>119420.0</td>\n",
       "      <td>0.908137</td>\n",
       "      <td>Residential</td>\n",
       "      <td>Single Family</td>\n",
       "      <td>NaN</td>\n",
       "    </tr>\n",
       "    <tr>\n",
       "      <th>131932</th>\n",
       "      <td>2006</td>\n",
       "      <td>1187841600</td>\n",
       "      <td>Hamden</td>\n",
       "      <td>5670.0</td>\n",
       "      <td>0.094500</td>\n",
       "      <td>Vacant Land</td>\n",
       "      <td>NaN</td>\n",
       "      <td>NaN</td>\n",
       "    </tr>\n",
       "    <tr>\n",
       "      <th>671155</th>\n",
       "      <td>2012</td>\n",
       "      <td>1360213200</td>\n",
       "      <td>Newington</td>\n",
       "      <td>83800.0</td>\n",
       "      <td>0.728696</td>\n",
       "      <td>Commercial</td>\n",
       "      <td>NaN</td>\n",
       "      <td>NaN</td>\n",
       "    </tr>\n",
       "    <tr>\n",
       "      <th>121958</th>\n",
       "      <td>2013</td>\n",
       "      <td>1381809600</td>\n",
       "      <td>Greenwich</td>\n",
       "      <td>2784740.0</td>\n",
       "      <td>0.449000</td>\n",
       "      <td>Residential</td>\n",
       "      <td>Single Family</td>\n",
       "      <td>NaN</td>\n",
       "    </tr>\n",
       "  </tbody>\n",
       "</table>\n",
       "<p>704417 rows × 8 columns</p>\n",
       "</div>"
      ],
      "text/plain": [
       "        ListYear  DateRecorded           Town  AssessedValue  SalesRatio  \\\n",
       "748291      2015    1474516800      Naugatuck       121440.0    0.759475   \n",
       "831909      2012    1350014400       Guilford        46490.0    0.830179   \n",
       "185198      2016    1478059200        Newtown        96880.0    1.211000   \n",
       "183055      2003    1087358400    New Milford       106960.0   48.610000   \n",
       "407872      2016    1494216000        Norwalk       881040.0    0.915366   \n",
       "...          ...           ...            ...            ...         ...   \n",
       "259178      2005    1148356800  West Hartford        88980.0   30.000000   \n",
       "365838      2009    1267419600  East Hartford       119420.0    0.908137   \n",
       "131932      2006    1187841600         Hamden         5670.0    0.094500   \n",
       "671155      2012    1360213200      Newington        83800.0    0.728696   \n",
       "121958      2013    1381809600      Greenwich      2784740.0    0.449000   \n",
       "\n",
       "       PropertyType ResidentialType  NumberOfBuildings  \n",
       "748291  Residential   Single Family                NaN  \n",
       "831909   Commercial             NaN                NaN  \n",
       "185198  Residential   Single Family                NaN  \n",
       "183055   Commercial             NaN                NaN  \n",
       "407872  Residential   Single Family                NaN  \n",
       "...             ...             ...                ...  \n",
       "259178  Residential      Two Family                NaN  \n",
       "365838  Residential   Single Family                NaN  \n",
       "131932  Vacant Land             NaN                NaN  \n",
       "671155   Commercial             NaN                NaN  \n",
       "121958  Residential   Single Family                NaN  \n",
       "\n",
       "[704417 rows x 8 columns]"
      ]
     },
     "execution_count": 19,
     "metadata": {},
     "output_type": "execute_result"
    }
   ],
   "source": [
    "housing_data = ct_housing_full_data.drop('SaleAmount', axis=1)\n",
    "housing_data"
   ]
  },
  {
   "cell_type": "markdown",
   "metadata": {},
   "source": [
    "Next, use scikit-learn's `Pipeline` and `ColumnTransformer` classes to clean the data."
   ]
  },
  {
   "cell_type": "code",
   "execution_count": 20,
   "metadata": {},
   "outputs": [],
   "source": [
    "from sklearn.pipeline import Pipeline\n",
    "from sklearn.impute import SimpleImputer\n",
    "from sklearn.preprocessing import OneHotEncoder, StandardScaler\n",
    "from sklearn.compose import ColumnTransformer\n",
    "\n",
    "num_pipeline = Pipeline([\n",
    "    ('imputer', SimpleImputer(strategy='median')),\n",
    "    ('scaler', StandardScaler())\n",
    "])\n",
    "\n",
    "cat_pipeline = Pipeline([\n",
    "    ('imputer', SimpleImputer(strategy='constant', fill_value='Unknown')),\n",
    "    ('encoder', OneHotEncoder())\n",
    "])\n",
    "\n",
    "full_pipeline = ColumnTransformer([\n",
    "    ('num', num_pipeline, ['ListYear', 'DateRecorded', 'AssessedValue', 'SalesRatio', 'NumberOfBuildings']),\n",
    "    ('cat', cat_pipeline, ['Town', 'PropertyType', 'ResidentialType'])\n",
    "])"
   ]
  },
  {
   "cell_type": "code",
   "execution_count": 21,
   "metadata": {},
   "outputs": [
    {
     "data": {
      "text/plain": [
       "<704417x196 sparse matrix of type '<class 'numpy.float64'>'\n",
       "\twith 5635336 stored elements in Compressed Sparse Row format>"
      ]
     },
     "execution_count": 21,
     "metadata": {},
     "output_type": "execute_result"
    }
   ],
   "source": [
    "ct_housing_prepared = full_pipeline.fit_transform(housing_data)\n",
    "ct_housing_prepared"
   ]
  },
  {
   "cell_type": "code",
   "execution_count": 33,
   "metadata": {},
   "outputs": [
    {
     "data": {
      "text/plain": [
       "array([[ 1.15827806,  1.23654411, -0.10575518, ...,  0.        ,\n",
       "         0.        ,  0.        ],\n",
       "       [ 0.62201083,  0.53331529, -0.1618756 , ...,  0.        ,\n",
       "         1.        ,  0.        ],\n",
       "       [ 1.33703381,  1.2565527 , -0.12414501, ...,  0.        ,\n",
       "         0.        ,  0.        ],\n",
       "       ...,\n",
       "       [-0.45052365, -0.38268783, -0.19244046, ...,  0.        ,\n",
       "         1.        ,  0.        ],\n",
       "       [ 0.62201083,  0.59092133, -0.13393894, ...,  0.        ,\n",
       "         1.        ,  0.        ],\n",
       "       [ 0.80076657,  0.71290461,  1.88844789, ...,  0.        ,\n",
       "         0.        ,  0.        ]])"
      ]
     },
     "execution_count": 33,
     "metadata": {},
     "output_type": "execute_result"
    }
   ],
   "source": [
    "ct_housing_prepared.toarray()"
   ]
  },
  {
   "cell_type": "code",
   "execution_count": 34,
   "metadata": {},
   "outputs": [
    {
     "data": {
      "text/plain": [
       "array([ 1.15827806,  1.23654411, -0.10575518, -0.00519822,  0.0689244 ,\n",
       "        0.        ,  0.        ,  0.        ,  0.        ,  0.        ,\n",
       "        0.        ,  0.        ,  0.        ,  0.        ,  0.        ,\n",
       "        0.        ,  0.        ,  0.        ,  0.        ,  0.        ,\n",
       "        0.        ,  0.        ,  0.        ,  0.        ,  0.        ,\n",
       "        0.        ,  0.        ,  0.        ,  0.        ,  0.        ,\n",
       "        0.        ,  0.        ,  0.        ,  0.        ,  0.        ,\n",
       "        0.        ,  0.        ,  0.        ,  0.        ,  0.        ,\n",
       "        0.        ,  0.        ,  0.        ,  0.        ,  0.        ,\n",
       "        0.        ,  0.        ,  0.        ,  0.        ,  0.        ,\n",
       "        0.        ,  0.        ,  0.        ,  0.        ,  0.        ,\n",
       "        0.        ,  0.        ,  0.        ,  0.        ,  0.        ,\n",
       "        0.        ,  0.        ,  0.        ,  0.        ,  0.        ,\n",
       "        0.        ,  0.        ,  0.        ,  0.        ,  0.        ,\n",
       "        0.        ,  0.        ,  0.        ,  0.        ,  0.        ,\n",
       "        0.        ,  0.        ,  0.        ,  0.        ,  0.        ,\n",
       "        0.        ,  0.        ,  0.        ,  0.        ,  0.        ,\n",
       "        0.        ,  0.        ,  0.        ,  0.        ,  0.        ,\n",
       "        0.        ,  0.        ,  1.        ,  0.        ,  0.        ,\n",
       "        0.        ,  0.        ,  0.        ,  0.        ,  0.        ,\n",
       "        0.        ,  0.        ,  0.        ,  0.        ,  0.        ,\n",
       "        0.        ,  0.        ,  0.        ,  0.        ,  0.        ,\n",
       "        0.        ,  0.        ,  0.        ,  0.        ,  0.        ,\n",
       "        0.        ,  0.        ,  0.        ,  0.        ,  0.        ,\n",
       "        0.        ,  0.        ,  0.        ,  0.        ,  0.        ,\n",
       "        0.        ,  0.        ,  0.        ,  0.        ,  0.        ,\n",
       "        0.        ,  0.        ,  0.        ,  0.        ,  0.        ,\n",
       "        0.        ,  0.        ,  0.        ,  0.        ,  0.        ,\n",
       "        0.        ,  0.        ,  0.        ,  0.        ,  0.        ,\n",
       "        0.        ,  0.        ,  0.        ,  0.        ,  0.        ,\n",
       "        0.        ,  0.        ,  0.        ,  0.        ,  0.        ,\n",
       "        0.        ,  0.        ,  0.        ,  0.        ,  0.        ,\n",
       "        0.        ,  0.        ,  0.        ,  0.        ,  0.        ,\n",
       "        0.        ,  0.        ,  0.        ,  0.        ,  0.        ,\n",
       "        0.        ,  0.        ,  0.        ,  0.        ,  0.        ,\n",
       "        0.        ,  0.        ,  0.        ,  0.        ,  0.        ,\n",
       "        1.        ,  0.        ,  0.        ,  0.        ,  0.        ,\n",
       "        0.        ,  0.        ,  0.        ,  0.        ,  0.        ,\n",
       "        0.        ,  1.        ,  0.        ,  0.        ,  0.        ,\n",
       "        0.        ])"
      ]
     },
     "execution_count": 34,
     "metadata": {},
     "output_type": "execute_result"
    }
   ],
   "source": [
    "ct_housing_prepared.toarray()[0]"
   ]
  },
  {
   "cell_type": "markdown",
   "metadata": {},
   "source": [
    "### Training the ML Algorithm\n",
    "\n",
    "Train the data using a [linear regression](https://scikit-learn.org/stable/modules/generated/sklearn.linear_model.LinearRegression.html) \n",
    "model (`LinearRegression`)."
   ]
  },
  {
   "cell_type": "code",
   "execution_count": 24,
   "metadata": {},
   "outputs": [
    {
     "data": {
      "text/plain": [
       "LinearRegression()"
      ]
     },
     "execution_count": 24,
     "metadata": {},
     "output_type": "execute_result"
    }
   ],
   "source": [
    "from sklearn.linear_model import LinearRegression\n",
    "\n",
    "lin_reg = LinearRegression()\n",
    "lin_reg.fit(ct_housing_prepared, housing_data_labels)"
   ]
  },
  {
   "cell_type": "code",
   "execution_count": 40,
   "metadata": {},
   "outputs": [
    {
     "data": {
      "text/html": [
       "<div>\n",
       "<style scoped>\n",
       "    .dataframe tbody tr th:only-of-type {\n",
       "        vertical-align: middle;\n",
       "    }\n",
       "\n",
       "    .dataframe tbody tr th {\n",
       "        vertical-align: top;\n",
       "    }\n",
       "\n",
       "    .dataframe thead th {\n",
       "        text-align: right;\n",
       "    }\n",
       "</style>\n",
       "<table border=\"1\" class=\"dataframe\">\n",
       "  <thead>\n",
       "    <tr style=\"text-align: right;\">\n",
       "      <th></th>\n",
       "      <th>ListYear</th>\n",
       "      <th>DateRecorded</th>\n",
       "      <th>Town</th>\n",
       "      <th>AssessedValue</th>\n",
       "      <th>SalesRatio</th>\n",
       "      <th>PropertyType</th>\n",
       "      <th>ResidentialType</th>\n",
       "      <th>NumberOfBuildings</th>\n",
       "    </tr>\n",
       "  </thead>\n",
       "  <tbody>\n",
       "    <tr>\n",
       "      <th>748291</th>\n",
       "      <td>2015</td>\n",
       "      <td>1474516800</td>\n",
       "      <td>Naugatuck</td>\n",
       "      <td>121440.0</td>\n",
       "      <td>0.759475</td>\n",
       "      <td>Residential</td>\n",
       "      <td>Single Family</td>\n",
       "      <td>NaN</td>\n",
       "    </tr>\n",
       "    <tr>\n",
       "      <th>831909</th>\n",
       "      <td>2012</td>\n",
       "      <td>1350014400</td>\n",
       "      <td>Guilford</td>\n",
       "      <td>46490.0</td>\n",
       "      <td>0.830179</td>\n",
       "      <td>Commercial</td>\n",
       "      <td>NaN</td>\n",
       "      <td>NaN</td>\n",
       "    </tr>\n",
       "    <tr>\n",
       "      <th>185198</th>\n",
       "      <td>2016</td>\n",
       "      <td>1478059200</td>\n",
       "      <td>Newtown</td>\n",
       "      <td>96880.0</td>\n",
       "      <td>1.211000</td>\n",
       "      <td>Residential</td>\n",
       "      <td>Single Family</td>\n",
       "      <td>NaN</td>\n",
       "    </tr>\n",
       "    <tr>\n",
       "      <th>183055</th>\n",
       "      <td>2003</td>\n",
       "      <td>1087358400</td>\n",
       "      <td>New Milford</td>\n",
       "      <td>106960.0</td>\n",
       "      <td>48.610000</td>\n",
       "      <td>Commercial</td>\n",
       "      <td>NaN</td>\n",
       "      <td>NaN</td>\n",
       "    </tr>\n",
       "    <tr>\n",
       "      <th>407872</th>\n",
       "      <td>2016</td>\n",
       "      <td>1494216000</td>\n",
       "      <td>Norwalk</td>\n",
       "      <td>881040.0</td>\n",
       "      <td>0.915366</td>\n",
       "      <td>Residential</td>\n",
       "      <td>Single Family</td>\n",
       "      <td>NaN</td>\n",
       "    </tr>\n",
       "  </tbody>\n",
       "</table>\n",
       "</div>"
      ],
      "text/plain": [
       "        ListYear  DateRecorded         Town  AssessedValue  SalesRatio  \\\n",
       "748291      2015    1474516800    Naugatuck       121440.0    0.759475   \n",
       "831909      2012    1350014400     Guilford        46490.0    0.830179   \n",
       "185198      2016    1478059200      Newtown        96880.0    1.211000   \n",
       "183055      2003    1087358400  New Milford       106960.0   48.610000   \n",
       "407872      2016    1494216000      Norwalk       881040.0    0.915366   \n",
       "\n",
       "       PropertyType ResidentialType  NumberOfBuildings  \n",
       "748291  Residential   Single Family                NaN  \n",
       "831909   Commercial             NaN                NaN  \n",
       "185198  Residential   Single Family                NaN  \n",
       "183055   Commercial             NaN                NaN  \n",
       "407872  Residential   Single Family                NaN  "
      ]
     },
     "execution_count": 40,
     "metadata": {},
     "output_type": "execute_result"
    }
   ],
   "source": [
    "housing_data[:5]"
   ]
  },
  {
   "cell_type": "code",
   "execution_count": 37,
   "metadata": {},
   "outputs": [
    {
     "data": {
      "text/plain": [
       "'Predictions: [188683.2068982  523073.33682687 380293.06206749 444395.59811064\\n 710566.6714288 ]'"
      ]
     },
     "execution_count": 37,
     "metadata": {},
     "output_type": "execute_result"
    }
   ],
   "source": [
    "predictions = lin_reg.predict(prepared_data_subset)\n",
    "\n",
    "f\"Predictions: {predictions[:5]}\""
   ]
  },
  {
   "cell_type": "code",
   "execution_count": 39,
   "metadata": {},
   "outputs": [
    {
     "data": {
      "text/plain": [
       "'Labels: [159900.0, 56000.0, 80000.0, 220000.0, 962500.0]'"
      ]
     },
     "execution_count": 39,
     "metadata": {},
     "output_type": "execute_result"
    }
   ],
   "source": [
    "f\"Labels: {list(housing_data_labels)[:5]}\""
   ]
  },
  {
   "cell_type": "markdown",
   "metadata": {},
   "source": [
    "The results show that this model is terrible at predicting housing prices in Connecticut.  However, it was\n",
    "still worthwhile to walk through the steps needed to prepare data for a machine learning algorithm."
   ]
  },
  {
   "cell_type": "code",
   "execution_count": 41,
   "metadata": {},
   "outputs": [
    {
     "data": {
      "text/plain": [
       "3915579061338.6265"
      ]
     },
     "execution_count": 41,
     "metadata": {},
     "output_type": "execute_result"
    }
   ],
   "source": [
    "from sklearn.metrics import mean_squared_error\n",
    "\n",
    "lin_reg_mse = mean_squared_error(housing_data_labels, predictions)\n",
    "lin_reg_mse"
   ]
  },
  {
   "cell_type": "code",
   "execution_count": 42,
   "metadata": {},
   "outputs": [
    {
     "data": {
      "text/plain": [
       "1978782.2167531794"
      ]
     },
     "execution_count": 42,
     "metadata": {},
     "output_type": "execute_result"
    }
   ],
   "source": [
    "lin_reg_rmse = np.sqrt(lin_reg_mse)\n",
    "lin_reg_rmse"
   ]
  },
  {
   "cell_type": "markdown",
   "metadata": {},
   "source": [
    "Train the data using a [decision tree regressor](https://scikit-learn.org/stable/modules/generated/sklearn.tree.DecisionTreeRegressor.html?highlight=decisiontreeregressor#sklearn.tree.DecisionTreeRegressor) \n",
    "model (`DecisionTreeRegressor`)."
   ]
  },
  {
   "cell_type": "code",
   "execution_count": 45,
   "metadata": {},
   "outputs": [
    {
     "data": {
      "text/plain": [
       "DecisionTreeRegressor()"
      ]
     },
     "execution_count": 45,
     "metadata": {},
     "output_type": "execute_result"
    }
   ],
   "source": [
    "from sklearn.tree import DecisionTreeRegressor\n",
    "\n",
    "decision_tree_reg = DecisionTreeRegressor()\n",
    "decision_tree_reg.fit(ct_housing_prepared, housing_data_labels)"
   ]
  },
  {
   "cell_type": "code",
   "execution_count": 46,
   "metadata": {},
   "outputs": [
    {
     "data": {
      "text/plain": [
       "'Predictions: [159900.  56000.  80000. 220000. 962500.]'"
      ]
     },
     "execution_count": 46,
     "metadata": {},
     "output_type": "execute_result"
    }
   ],
   "source": [
    "predictions = decision_tree_reg.predict(prepared_data_subset)\n",
    "\n",
    "f\"Predictions: {predictions[:5]}\""
   ]
  },
  {
   "cell_type": "code",
   "execution_count": 47,
   "metadata": {},
   "outputs": [
    {
     "data": {
      "text/plain": [
       "'Labels: [159900.0, 56000.0, 80000.0, 220000.0, 962500.0]'"
      ]
     },
     "execution_count": 47,
     "metadata": {},
     "output_type": "execute_result"
    }
   ],
   "source": [
    "f\"Labels: {list(housing_data_labels)[:5]}\""
   ]
  },
  {
   "cell_type": "markdown",
   "metadata": {},
   "source": [
    "The results show that the model is likely overfitted to the data, as only **1108** records of **704416** have \n",
    "different predicted values different than the labels."
   ]
  },
  {
   "cell_type": "code",
   "execution_count": 54,
   "metadata": {},
   "outputs": [
    {
     "data": {
      "text/html": [
       "<div>\n",
       "<style scoped>\n",
       "    .dataframe tbody tr th:only-of-type {\n",
       "        vertical-align: middle;\n",
       "    }\n",
       "\n",
       "    .dataframe tbody tr th {\n",
       "        vertical-align: top;\n",
       "    }\n",
       "\n",
       "    .dataframe thead th {\n",
       "        text-align: right;\n",
       "    }\n",
       "</style>\n",
       "<table border=\"1\" class=\"dataframe\">\n",
       "  <thead>\n",
       "    <tr style=\"text-align: right;\">\n",
       "      <th></th>\n",
       "      <th>labels</th>\n",
       "      <th>predictions</th>\n",
       "    </tr>\n",
       "  </thead>\n",
       "  <tbody>\n",
       "    <tr>\n",
       "      <th>0</th>\n",
       "      <td>159900.0</td>\n",
       "      <td>159900.0</td>\n",
       "    </tr>\n",
       "    <tr>\n",
       "      <th>1</th>\n",
       "      <td>56000.0</td>\n",
       "      <td>56000.0</td>\n",
       "    </tr>\n",
       "    <tr>\n",
       "      <th>2</th>\n",
       "      <td>80000.0</td>\n",
       "      <td>80000.0</td>\n",
       "    </tr>\n",
       "    <tr>\n",
       "      <th>3</th>\n",
       "      <td>220000.0</td>\n",
       "      <td>220000.0</td>\n",
       "    </tr>\n",
       "    <tr>\n",
       "      <th>4</th>\n",
       "      <td>962500.0</td>\n",
       "      <td>962500.0</td>\n",
       "    </tr>\n",
       "    <tr>\n",
       "      <th>...</th>\n",
       "      <td>...</td>\n",
       "      <td>...</td>\n",
       "    </tr>\n",
       "    <tr>\n",
       "      <th>704412</th>\n",
       "      <td>297000.0</td>\n",
       "      <td>297000.0</td>\n",
       "    </tr>\n",
       "    <tr>\n",
       "      <th>704413</th>\n",
       "      <td>131500.0</td>\n",
       "      <td>131500.0</td>\n",
       "    </tr>\n",
       "    <tr>\n",
       "      <th>704414</th>\n",
       "      <td>60000.0</td>\n",
       "      <td>60000.0</td>\n",
       "    </tr>\n",
       "    <tr>\n",
       "      <th>704415</th>\n",
       "      <td>115000.0</td>\n",
       "      <td>115000.0</td>\n",
       "    </tr>\n",
       "    <tr>\n",
       "      <th>704416</th>\n",
       "      <td>6200000.0</td>\n",
       "      <td>6200000.0</td>\n",
       "    </tr>\n",
       "  </tbody>\n",
       "</table>\n",
       "<p>704417 rows × 2 columns</p>\n",
       "</div>"
      ],
      "text/plain": [
       "           labels  predictions\n",
       "0        159900.0     159900.0\n",
       "1         56000.0      56000.0\n",
       "2         80000.0      80000.0\n",
       "3        220000.0     220000.0\n",
       "4        962500.0     962500.0\n",
       "...           ...          ...\n",
       "704412   297000.0     297000.0\n",
       "704413   131500.0     131500.0\n",
       "704414    60000.0      60000.0\n",
       "704415   115000.0     115000.0\n",
       "704416  6200000.0    6200000.0\n",
       "\n",
       "[704417 rows x 2 columns]"
      ]
     },
     "execution_count": 54,
     "metadata": {},
     "output_type": "execute_result"
    }
   ],
   "source": [
    "labels_and_predictions = pd.DataFrame({\n",
    "    'labels': list(housing_data_labels),\n",
    "    'predictions': predictions\n",
    "})\n",
    "labels_and_predictions"
   ]
  },
  {
   "cell_type": "code",
   "execution_count": 55,
   "metadata": {},
   "outputs": [
    {
     "data": {
      "text/html": [
       "<div>\n",
       "<style scoped>\n",
       "    .dataframe tbody tr th:only-of-type {\n",
       "        vertical-align: middle;\n",
       "    }\n",
       "\n",
       "    .dataframe tbody tr th {\n",
       "        vertical-align: top;\n",
       "    }\n",
       "\n",
       "    .dataframe thead th {\n",
       "        text-align: right;\n",
       "    }\n",
       "</style>\n",
       "<table border=\"1\" class=\"dataframe\">\n",
       "  <thead>\n",
       "    <tr style=\"text-align: right;\">\n",
       "      <th></th>\n",
       "      <th>labels</th>\n",
       "      <th>predictions</th>\n",
       "    </tr>\n",
       "  </thead>\n",
       "  <tbody>\n",
       "    <tr>\n",
       "      <th>361</th>\n",
       "      <td>236000.0</td>\n",
       "      <td>1.730667e+05</td>\n",
       "    </tr>\n",
       "    <tr>\n",
       "      <th>1029</th>\n",
       "      <td>151575.0</td>\n",
       "      <td>1.499500e+05</td>\n",
       "    </tr>\n",
       "    <tr>\n",
       "      <th>1465</th>\n",
       "      <td>67000.0</td>\n",
       "      <td>6.710000e+04</td>\n",
       "    </tr>\n",
       "    <tr>\n",
       "      <th>2150</th>\n",
       "      <td>3328000.0</td>\n",
       "      <td>5.518732e+06</td>\n",
       "    </tr>\n",
       "    <tr>\n",
       "      <th>2216</th>\n",
       "      <td>450000.0</td>\n",
       "      <td>3.000000e+05</td>\n",
       "    </tr>\n",
       "    <tr>\n",
       "      <th>...</th>\n",
       "      <td>...</td>\n",
       "      <td>...</td>\n",
       "    </tr>\n",
       "    <tr>\n",
       "      <th>701728</th>\n",
       "      <td>114900.0</td>\n",
       "      <td>1.029288e+05</td>\n",
       "    </tr>\n",
       "    <tr>\n",
       "      <th>702587</th>\n",
       "      <td>227125.0</td>\n",
       "      <td>2.283400e+05</td>\n",
       "    </tr>\n",
       "    <tr>\n",
       "      <th>702611</th>\n",
       "      <td>548500.0</td>\n",
       "      <td>5.442500e+05</td>\n",
       "    </tr>\n",
       "    <tr>\n",
       "      <th>702639</th>\n",
       "      <td>98500.0</td>\n",
       "      <td>1.370500e+05</td>\n",
       "    </tr>\n",
       "    <tr>\n",
       "      <th>704091</th>\n",
       "      <td>199400.0</td>\n",
       "      <td>2.316500e+05</td>\n",
       "    </tr>\n",
       "  </tbody>\n",
       "</table>\n",
       "<p>1108 rows × 2 columns</p>\n",
       "</div>"
      ],
      "text/plain": [
       "           labels   predictions\n",
       "361      236000.0  1.730667e+05\n",
       "1029     151575.0  1.499500e+05\n",
       "1465      67000.0  6.710000e+04\n",
       "2150    3328000.0  5.518732e+06\n",
       "2216     450000.0  3.000000e+05\n",
       "...           ...           ...\n",
       "701728   114900.0  1.029288e+05\n",
       "702587   227125.0  2.283400e+05\n",
       "702611   548500.0  5.442500e+05\n",
       "702639    98500.0  1.370500e+05\n",
       "704091   199400.0  2.316500e+05\n",
       "\n",
       "[1108 rows x 2 columns]"
      ]
     },
     "execution_count": 55,
     "metadata": {},
     "output_type": "execute_result"
    }
   ],
   "source": [
    "labels_and_predictions[labels_and_predictions['labels'] != labels_and_predictions['predictions']]"
   ]
  },
  {
   "cell_type": "code",
   "execution_count": 56,
   "metadata": {},
   "outputs": [
    {
     "data": {
      "text/plain": [
       "labels            940000.0\n",
       "predictions    470940000.0\n",
       "Name: 485767, dtype: float64"
      ]
     },
     "execution_count": 56,
     "metadata": {},
     "output_type": "execute_result"
    }
   ],
   "source": [
    "largest_diff_index = (labels_and_predictions['labels'] - labels_and_predictions['predictions']).abs().idxmax()\n",
    "labels_and_predictions.iloc[largest_diff_index]"
   ]
  },
  {
   "cell_type": "code",
   "execution_count": 48,
   "metadata": {},
   "outputs": [
    {
     "data": {
      "text/plain": [
       "631902839266.5392"
      ]
     },
     "execution_count": 48,
     "metadata": {},
     "output_type": "execute_result"
    }
   ],
   "source": [
    "decision_tree_reg_mse = mean_squared_error(housing_data_labels, predictions)\n",
    "decision_tree_reg_mse"
   ]
  },
  {
   "cell_type": "code",
   "execution_count": 49,
   "metadata": {},
   "outputs": [
    {
     "data": {
      "text/plain": [
       "794923.1656371194"
      ]
     },
     "execution_count": 49,
     "metadata": {},
     "output_type": "execute_result"
    }
   ],
   "source": [
    "decision_tree_reg_rmse = np.sqrt(decision_tree_reg_mse)\n",
    "decision_tree_reg_rmse"
   ]
  },
  {
   "cell_type": "code",
   "execution_count": null,
   "metadata": {},
   "outputs": [],
   "source": []
  }
 ],
 "metadata": {
  "kernelspec": {
   "display_name": "Python 3",
   "language": "python",
   "name": "python3"
  },
  "language_info": {
   "codemirror_mode": {
    "name": "ipython",
    "version": 3
   },
   "file_extension": ".py",
   "mimetype": "text/x-python",
   "name": "python",
   "nbconvert_exporter": "python",
   "pygments_lexer": "ipython3",
   "version": "3.8.6"
  }
 },
 "nbformat": 4,
 "nbformat_minor": 4
}
